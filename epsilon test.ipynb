{
 "cells": [
  {
   "cell_type": "code",
   "execution_count": 1,
   "metadata": {},
   "outputs": [],
   "source": [
    "import snapshot\n",
    "import pandas as pd"
   ]
  },
  {
   "cell_type": "code",
   "execution_count": 2,
   "metadata": {},
   "outputs": [
    {
     "name": "stderr",
     "output_type": "stream",
     "text": [
      "c:\\Users\\NahianSiddique\\AppData\\Local\\Programs\\Python\\Python39\\lib\\site-packages\\IPython\\core\\interactiveshell.py:3185: DtypeWarning: Columns (28,51,71,74,94,97,98,108,117,118,120,121,131,137,138,141,142,159,164,168,176,177,181,185,192,202,205,206,211,214,221,231,257,274,275,278,279,536,538,541,561,562,573,574,591,878,880,882,883,885,886,887,888,889,890,891,892,893,894,896,897,898,899,900,901,902,903,904,905,906,907,968,969,994,997,1001,1004,1005,1007) have mixed types.Specify dtype option on import or set low_memory=False.\n",
      "  has_raised = await self.run_ast_nodes(code_ast.body, cell_name,\n"
     ]
    }
   ],
   "source": [
    "df = pd.read_csv(r\"C:\\Users\\NahianSiddique\\OneDrive - Blend 360\\Documents\\GitHub\\Snapshot2.0\\Epsilon test\\selected_attributes.csv\")"
   ]
  },
  {
   "cell_type": "code",
   "execution_count": 3,
   "metadata": {},
   "outputs": [],
   "source": [
    "p = snapshot.Snapshot(\n",
    "    profile_data=df,\n",
    "    segment_var=\"Group\",\n",
    "    continuous_path=\"Data/Epsilon_attributes_binning_2.csv\",\n",
    "    nbins=5,\n",
    ")"
   ]
  },
  {
   "cell_type": "code",
   "execution_count": 4,
   "metadata": {},
   "outputs": [
    {
     "data": {
      "text/plain": [
       "{'Baseline': 'Baseline'}"
      ]
     },
     "execution_count": 4,
     "metadata": {},
     "output_type": "execute_result"
    }
   ],
   "source": [
    "p.mapping_dict"
   ]
  },
  {
   "cell_type": "code",
   "execution_count": 5,
   "metadata": {},
   "outputs": [],
   "source": [
    "p.run_profiler()"
   ]
  },
  {
   "cell_type": "code",
   "execution_count": 36,
   "metadata": {},
   "outputs": [
    {
     "data": {
      "text/html": [
       "<div><div id=427dcc60-bfb3-4989-919a-fbf360955479 style=\"display:none; background-color:#9D6CFF; color:white; width:200px; height:30px; padding-left:5px; border-radius:4px; flex-direction:row; justify-content:space-around; align-items:center;\" onmouseover=\"this.style.backgroundColor='#BA9BF8'\" onmouseout=\"this.style.backgroundColor='#9D6CFF'\" onclick=\"window.commands?.execute('create-mitosheet-from-dataframe-output');\">See Full Dataframe in Mito</div> <script> if (window.commands?.hasCommand('create-mitosheet-from-dataframe-output')) document.getElementById('427dcc60-bfb3-4989-919a-fbf360955479').style.display = 'flex' </script> <table border=\"1\" class=\"dataframe\">\n",
       "  <thead>\n",
       "    <tr style=\"text-align: right;\">\n",
       "      <th></th>\n",
       "      <th>Variable</th>\n",
       "      <th>Label</th>\n",
       "      <th>Definition</th>\n",
       "      <th>Category</th>\n",
       "      <th>Description</th>\n",
       "      <th>Count Baseline</th>\n",
       "      <th>Percent Baseline</th>\n",
       "    </tr>\n",
       "  </thead>\n",
       "  <tbody>\n",
       "    <tr>\n",
       "      <th>0</th>\n",
       "      <td>Unnamed: 0</td>\n",
       "      <td>None</td>\n",
       "      <td>None</td>\n",
       "      <td>(-0.001, 19699.0]</td>\n",
       "      <td>None</td>\n",
       "      <td>3971</td>\n",
       "      <td>0.200030</td>\n",
       "    </tr>\n",
       "    <tr>\n",
       "      <th>1</th>\n",
       "      <td>Unnamed: 0</td>\n",
       "      <td>None</td>\n",
       "      <td>None</td>\n",
       "      <td>(19699.0, 39324.2]</td>\n",
       "      <td>None</td>\n",
       "      <td>3970</td>\n",
       "      <td>0.199980</td>\n",
       "    </tr>\n",
       "    <tr>\n",
       "      <th>2</th>\n",
       "      <td>Unnamed: 0</td>\n",
       "      <td>None</td>\n",
       "      <td>None</td>\n",
       "      <td>(39324.2, 59296.8]</td>\n",
       "      <td>None</td>\n",
       "      <td>3970</td>\n",
       "      <td>0.199980</td>\n",
       "    </tr>\n",
       "    <tr>\n",
       "      <th>3</th>\n",
       "      <td>Unnamed: 0</td>\n",
       "      <td>None</td>\n",
       "      <td>None</td>\n",
       "      <td>(59296.8, 79049.2]</td>\n",
       "      <td>None</td>\n",
       "      <td>3970</td>\n",
       "      <td>0.199980</td>\n",
       "    </tr>\n",
       "    <tr>\n",
       "      <th>4</th>\n",
       "      <td>Unnamed: 0</td>\n",
       "      <td>None</td>\n",
       "      <td>None</td>\n",
       "      <td>(79049.2, 99255.0]</td>\n",
       "      <td>None</td>\n",
       "      <td>3971</td>\n",
       "      <td>0.200030</td>\n",
       "    </tr>\n",
       "    <tr>\n",
       "      <th>...</th>\n",
       "      <td>...</td>\n",
       "      <td>...</td>\n",
       "      <td>...</td>\n",
       "      <td>...</td>\n",
       "      <td>...</td>\n",
       "      <td>...</td>\n",
       "      <td>...</td>\n",
       "    </tr>\n",
       "    <tr>\n",
       "      <th>21</th>\n",
       "      <td>SS_NICHES_40</td>\n",
       "      <td>None</td>\n",
       "      <td>None</td>\n",
       "      <td>V</td>\n",
       "      <td>None</td>\n",
       "      <td>40</td>\n",
       "      <td>0.002015</td>\n",
       "    </tr>\n",
       "    <tr>\n",
       "      <th>22</th>\n",
       "      <td>SS_NICHES_40</td>\n",
       "      <td>None</td>\n",
       "      <td>None</td>\n",
       "      <td>W</td>\n",
       "      <td>None</td>\n",
       "      <td>23</td>\n",
       "      <td>0.001159</td>\n",
       "    </tr>\n",
       "    <tr>\n",
       "      <th>23</th>\n",
       "      <td>SS_NICHES_40</td>\n",
       "      <td>None</td>\n",
       "      <td>None</td>\n",
       "      <td>X</td>\n",
       "      <td>None</td>\n",
       "      <td>41</td>\n",
       "      <td>0.002065</td>\n",
       "    </tr>\n",
       "    <tr>\n",
       "      <th>24</th>\n",
       "      <td>SS_NICHES_40</td>\n",
       "      <td>None</td>\n",
       "      <td>None</td>\n",
       "      <td>Y</td>\n",
       "      <td>None</td>\n",
       "      <td>33</td>\n",
       "      <td>0.001662</td>\n",
       "    </tr>\n",
       "    <tr>\n",
       "      <th>25</th>\n",
       "      <td>SS_NICHES_40</td>\n",
       "      <td>None</td>\n",
       "      <td>None</td>\n",
       "      <td>Z</td>\n",
       "      <td>None</td>\n",
       "      <td>60</td>\n",
       "      <td>0.003022</td>\n",
       "    </tr>\n",
       "  </tbody>\n",
       "</table></div>"
      ],
      "text/plain": [
       "        Variable Label Definition            Category Description  \\\n",
       "0     Unnamed: 0  None       None   (-0.001, 19699.0]        None   \n",
       "1     Unnamed: 0  None       None  (19699.0, 39324.2]        None   \n",
       "2     Unnamed: 0  None       None  (39324.2, 59296.8]        None   \n",
       "3     Unnamed: 0  None       None  (59296.8, 79049.2]        None   \n",
       "4     Unnamed: 0  None       None  (79049.2, 99255.0]        None   \n",
       "..           ...   ...        ...                 ...         ...   \n",
       "21  SS_NICHES_40  None       None                   V        None   \n",
       "22  SS_NICHES_40  None       None                   W        None   \n",
       "23  SS_NICHES_40  None       None                   X        None   \n",
       "24  SS_NICHES_40  None       None                   Y        None   \n",
       "25  SS_NICHES_40  None       None                   Z        None   \n",
       "\n",
       "    Count Baseline  Percent Baseline  \n",
       "0             3971          0.200030  \n",
       "1             3970          0.199980  \n",
       "2             3970          0.199980  \n",
       "3             3970          0.199980  \n",
       "4             3971          0.200030  \n",
       "..             ...               ...  \n",
       "21              40          0.002015  \n",
       "22              23          0.001159  \n",
       "23              41          0.002065  \n",
       "24              33          0.001662  \n",
       "25              60          0.003022  \n",
       "\n",
       "[5105 rows x 7 columns]"
      ]
     },
     "execution_count": 36,
     "metadata": {},
     "output_type": "execute_result"
    }
   ],
   "source": [
    "p.profile_extra"
   ]
  },
  {
   "cell_type": "code",
   "execution_count": 37,
   "metadata": {},
   "outputs": [],
   "source": [
    "mask = p.profile_extra['Description'].isin([None])\n",
    "nor = p.profile_extra[~mask]\n"
   ]
  },
  {
   "cell_type": "code",
   "execution_count": 38,
   "metadata": {},
   "outputs": [
    {
     "data": {
      "text/html": [
       "<div><div id=f6c4839a-4d84-4eba-955f-c56b90ba4671 style=\"display:none; background-color:#9D6CFF; color:white; width:200px; height:30px; padding-left:5px; border-radius:4px; flex-direction:row; justify-content:space-around; align-items:center;\" onmouseover=\"this.style.backgroundColor='#BA9BF8'\" onmouseout=\"this.style.backgroundColor='#9D6CFF'\" onclick=\"window.commands?.execute('create-mitosheet-from-dataframe-output');\">See Full Dataframe in Mito</div> <script> if (window.commands?.hasCommand('create-mitosheet-from-dataframe-output')) document.getElementById('f6c4839a-4d84-4eba-955f-c56b90ba4671').style.display = 'flex' </script> <table border=\"1\" class=\"dataframe\">\n",
       "  <thead>\n",
       "    <tr style=\"text-align: right;\">\n",
       "      <th></th>\n",
       "      <th>Variable</th>\n",
       "      <th>Label</th>\n",
       "      <th>Definition</th>\n",
       "      <th>Category</th>\n",
       "      <th>Description</th>\n",
       "      <th>Count Baseline</th>\n",
       "      <th>Percent Baseline</th>\n",
       "    </tr>\n",
       "  </thead>\n",
       "  <tbody>\n",
       "  </tbody>\n",
       "</table></div>"
      ],
      "text/plain": [
       "Empty DataFrame\n",
       "Columns: [Variable, Label, Definition, Category, Description, Count Baseline, Percent Baseline]\n",
       "Index: []"
      ]
     },
     "execution_count": 38,
     "metadata": {},
     "output_type": "execute_result"
    }
   ],
   "source": [
    "nor"
   ]
  },
  {
   "cell_type": "code",
   "execution_count": 5,
   "metadata": {},
   "outputs": [],
   "source": [
    "p.create_profile(filename=\"epsilon_test_Profile.xlsx\")"
   ]
  },
  {
   "cell_type": "code",
   "execution_count": 6,
   "metadata": {},
   "outputs": [],
   "source": [
    "p.create_profile(filename=\"epsilon_test_Report.xlsx\", split_category=True)"
   ]
  },
  {
   "cell_type": "code",
   "execution_count": 7,
   "metadata": {},
   "outputs": [],
   "source": [
    "p.create_visual(filename=\"epsilon_test_Chart.xlsx\", plot_index=False, show_na=True)"
   ]
  }
 ],
 "metadata": {
  "kernelspec": {
   "display_name": "Python 3.9.9 64-bit",
   "language": "python",
   "name": "python3"
  },
  "language_info": {
   "codemirror_mode": {
    "name": "ipython",
    "version": 3
   },
   "file_extension": ".py",
   "mimetype": "text/x-python",
   "name": "python",
   "nbconvert_exporter": "python",
   "pygments_lexer": "ipython3",
   "version": "3.9.9 (tags/v3.9.9:ccb0e6a, Nov 15 2021, 18:08:50) [MSC v.1929 64 bit (AMD64)]"
  },
  "vscode": {
   "interpreter": {
    "hash": "4ff96adc296d26945e5e7d51441f7818c5e76af415287e8de6a67e93b2ea9abf"
   }
  }
 },
 "nbformat": 4,
 "nbformat_minor": 2
}
