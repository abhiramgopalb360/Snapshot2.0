{
 "cells": [
  {
   "cell_type": "code",
   "execution_count": 1,
   "metadata": {},
   "outputs": [],
   "source": [
    "import snapshot\n",
    "import pandas as pd"
   ]
  },
  {
   "cell_type": "code",
   "execution_count": 2,
   "metadata": {},
   "outputs": [],
   "source": [
    "df = pd.read_excel(r\"C:\\Users\\NahianSiddique\\OneDrive - Blend 360\\Hilton\\Analytical Projects\\HGV 2022 VIP Analysis\\Data\\Model Sample\\appended_data_4_group_subsample_20221228.xlsx\")\n",
    "\n",
    "df = df.drop(\n",
    "    columns=[\n",
    "        \"lead_id\",\n",
    "        \"t0_baseline_date\",\n",
    "        \"full_tour_id\",\n",
    "    ]\n",
    ")"
   ]
  },
  {
   "cell_type": "code",
   "execution_count": 3,
   "metadata": {},
   "outputs": [],
   "source": [
    "# segments = [\"DMC TS buyer\", \"Tour-no-buy no-VIP\", \"VIP Contract buyer\", \"VIP TS buyer\"]\n",
    "\n",
    "\n",
    "# Set up variables for snapshot\n",
    "file_name = \"test_profiles\"\n",
    "segment_var = \"source_name\"\n",
    "bin_vars_path = \"Data/HGV_VIP_attributes_binning.csv\"\n",
    "\n",
    "p = snapshot.Snapshot(\n",
    "    profile_data=df,\n",
    "    segment_var=segment_var,\n",
    "    baseline=\"DMC TS buyer\",\n",
    "    # segments=segments,\n",
    "    continuous_path=bin_vars_path,\n",
    "    nbins=5,\n",
    "    filename=file_name,\n",
    "    na_drop_threshold=.95,\n",
    ")"
   ]
  },
  {
   "cell_type": "code",
   "execution_count": 4,
   "metadata": {},
   "outputs": [
    {
     "name": "stderr",
     "output_type": "stream",
     "text": [
      "c:\\Users\\NahianSiddique\\OneDrive - Blend 360\\Documents\\GitHub\\Snapshot2.0\\snapshot.py:171: RuntimeWarning: divide by zero encountered in log\n",
      "  psi[row[\"Variable\"]][row[\"Category\"]][i + \"_PSI\"] = (row[uscol] - row[i]) * np.log(row[uscol] / row[i])\n"
     ]
    }
   ],
   "source": [
    "p.run_profiler()"
   ]
  },
  {
   "cell_type": "code",
   "execution_count": 5,
   "metadata": {},
   "outputs": [],
   "source": [
    "p.create_profile()"
   ]
  },
  {
   "cell_type": "code",
   "execution_count": 7,
   "metadata": {},
   "outputs": [],
   "source": [
    "p.create_visual(plot_index=False, chart_style=2)"
   ]
  }
 ],
 "metadata": {
  "kernelspec": {
   "display_name": "Python 3.9.9 64-bit",
   "language": "python",
   "name": "python3"
  },
  "language_info": {
   "codemirror_mode": {
    "name": "ipython",
    "version": 3
   },
   "file_extension": ".py",
   "mimetype": "text/x-python",
   "name": "python",
   "nbconvert_exporter": "python",
   "pygments_lexer": "ipython3",
   "version": "3.9.9"
  },
  "vscode": {
   "interpreter": {
    "hash": "4ff96adc296d26945e5e7d51441f7818c5e76af415287e8de6a67e93b2ea9abf"
   }
  }
 },
 "nbformat": 4,
 "nbformat_minor": 2
}
