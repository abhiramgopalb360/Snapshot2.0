{
 "cells": [
  {
   "cell_type": "code",
   "execution_count": 1,
   "metadata": {},
   "outputs": [],
   "source": [
    "import snapshot\n",
    "import pandas as pd"
   ]
  },
  {
   "cell_type": "code",
   "execution_count": 2,
   "metadata": {},
   "outputs": [
    {
     "name": "stderr",
     "output_type": "stream",
     "text": [
      "c:\\Users\\NahianSiddique\\AppData\\Local\\Programs\\Python\\Python39\\lib\\site-packages\\IPython\\core\\interactiveshell.py:3185: DtypeWarning: Columns (74,94,97,98,108,110,112,113,117,118,119,120,121,122,123,127,129,131,137,138,141,142,402,536,541,561,562,572,573,574,579,885,886,887,891,892,893,894,899,900,901,903,906,907,969,1007,1172,1174) have mixed types.Specify dtype option on import or set low_memory=False.\n",
      "  has_raised = await self.run_ast_nodes(code_ast.body, cell_name,\n"
     ]
    }
   ],
   "source": [
    "df = pd.read_csv(\"TESTFILE_EPSILON.csv\")"
   ]
  },
  {
   "cell_type": "code",
   "execution_count": 3,
   "metadata": {},
   "outputs": [],
   "source": [
    "p = snapshot.Snapshot(\n",
    "    profile_data=df,\n",
    "    segment_var=\"SEGMENT_O\",\n",
    "    baseline=\"Prospect\",\n",
    "    continuous_path=\"Data/Epsilon_attributes_binning_1.csv\",\n",
    "    nbins=5,\n",
    "    na_drop_threshold=.95,\n",
    "    epsilon=True\n",
    ")"
   ]
  },
  {
   "cell_type": "code",
   "execution_count": 4,
   "metadata": {},
   "outputs": [
    {
     "name": "stderr",
     "output_type": "stream",
     "text": [
      "c:\\Users\\NahianSiddique\\OneDrive - Blend 360\\Documents\\GitHub\\Snapshot2.0\\snapshot.py:181: RuntimeWarning: divide by zero encountered in log\n",
      "  psi[row[\"Variable\"]][row[\"Category\"]][i + \"_PSI\"] = (row[uscol] - row[i]) * np.log(row[uscol] / row[i])\n"
     ]
    }
   ],
   "source": [
    "p.run_profiler()"
   ]
  },
  {
   "cell_type": "code",
   "execution_count": 5,
   "metadata": {},
   "outputs": [],
   "source": [
    "# p.create_profile(filename=\"test_profiles_Profile.xlsx\")"
   ]
  },
  {
   "cell_type": "code",
   "execution_count": 6,
   "metadata": {},
   "outputs": [],
   "source": [
    "p.create_profile(filename=\"test_profiles_Report.xlsx\", split_category=True)"
   ]
  },
  {
   "cell_type": "code",
   "execution_count": 7,
   "metadata": {},
   "outputs": [],
   "source": [
    "# p.create_visual(filename=\"test_profiles_Chart.xlsx\", plot_index=False, show_na=True)"
   ]
  }
 ],
 "metadata": {
  "kernelspec": {
   "display_name": "Python 3.9.9 64-bit",
   "language": "python",
   "name": "python3"
  },
  "language_info": {
   "codemirror_mode": {
    "name": "ipython",
    "version": 3
   },
   "file_extension": ".py",
   "mimetype": "text/x-python",
   "name": "python",
   "nbconvert_exporter": "python",
   "pygments_lexer": "ipython3",
   "version": "3.9.9"
  },
  "vscode": {
   "interpreter": {
    "hash": "4ff96adc296d26945e5e7d51441f7818c5e76af415287e8de6a67e93b2ea9abf"
   }
  }
 },
 "nbformat": 4,
 "nbformat_minor": 2
}
