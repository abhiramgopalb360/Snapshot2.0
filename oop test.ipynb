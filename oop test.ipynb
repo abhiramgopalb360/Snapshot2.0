{
 "cells": [
  {
   "cell_type": "code",
   "execution_count": 1,
   "metadata": {},
   "outputs": [],
   "source": [
    "import snapshot\n",
    "import pandas as pd"
   ]
  },
  {
   "cell_type": "code",
   "execution_count": 2,
   "metadata": {},
   "outputs": [],
   "source": [
    "def transform(df):\n",
    "    df[\"hs_max_party_size\"] = df[\"hs_max_party_size\"].apply(lambda x: str(int(x)) if x < 5 else \"5+\" if x >= 5 else x)\n",
    "\n",
    "    df[\"household_size\"] = df[\"household_size\"].apply(lambda x: str(int(x)) if x < 5 else \"5+\" if x >= 5 else x)\n",
    "    df[\"internet_media_channel_usage\"] = df[\"internet_media_channel_usage\"].apply(lambda x: \"1-3\" if x < 4 else \"4-6\" if x < 7 else \"7-10\")\n",
    "    df[\"cruise_vacations_propensity\"] = df[\"cruise_vacations_propensity\"].apply(lambda x: \"1-3\" if x < 4 else \"4-6\" if x < 7 else \"7-10\")\n",
    "    df[\"internet_purchases_propensity_score\"] = df[\"internet_purchases_propensity_score\"].apply(lambda x: \"1-3\" if x < 4 else \"4-6\" if x < 7 else \"7-10\")\n",
    "    df[\"NUMBER_OF_ADULTS_7628\"] = df[\"NUMBER_OF_ADULTS_7628\"].apply(lambda x: str(int(x)) if x < 5 else \"5+\" if x >= 5 else x)\n",
    "    df[\"NUMBER_OF_CHILDREN_7602\"] = df[\"NUMBER_OF_CHILDREN_7602\"].apply(lambda x: str(int(x)) if x < 4 else \"4+\" if x >= 4 else x)\n",
    "    df[\"phone_purchases_propensity_score\"] = df[\"phone_purchases_propensity_score\"].apply(lambda x: \"1-3\" if x < 4 else \"4-6\" if x < 7 else \"7-10\")\n",
    "\n",
    "    df[\"env_pref_seasons_selected\"] = df[\"env_pref_spring\"] + df[\"env_pref_summer\"] + df[\"env_pref_fall\"] + df[\"env_pref_winter\"]\n",
    "\n",
    "    return df"
   ]
  },
  {
   "cell_type": "code",
   "execution_count": 3,
   "metadata": {},
   "outputs": [],
   "source": [
    "df = pd.read_excel(r\"C:\\Users\\NahianSiddique\\OneDrive - Blend 360\\Hilton\\Analytical Projects\\HGV 2022 VIP Analysis\\Data\\Model Sample\\appended_data_4_group_subsample_20221222.xlsx\")\n",
    "\n",
    "df = df.drop(\n",
    "    columns=[\n",
    "        \"lead_id\",\n",
    "        \"t0_baseline_date\",\n",
    "        \"full_tour_id\",\n",
    "    ]\n",
    ")\n",
    "\n",
    "df = transform(df)"
   ]
  },
  {
   "cell_type": "code",
   "execution_count": 5,
   "metadata": {},
   "outputs": [],
   "source": [
    "segments = [\"DMC TS buyer\", \"VIP TS buyer\"]\n",
    "\n",
    "# Set up variables for snapshot\n",
    "file_name = \"test_profiles\"\n",
    "segment_var = \"source_name\"\n",
    "bin_vars_path = \"Data/HGV_VIP_attributes_binning.csv\"\n",
    "\n",
    "p = snapshot.Snapshot(\n",
    "    profile_data=df,\n",
    "    segment_var=segment_var,\n",
    "    segments=segments,\n",
    "    continuous_path=bin_vars_path,\n",
    "    nbins=5,\n",
    "    filename=file_name\n",
    ")"
   ]
  },
  {
   "cell_type": "code",
   "execution_count": 6,
   "metadata": {},
   "outputs": [
    {
     "name": "stderr",
     "output_type": "stream",
     "text": [
      "c:\\Users\\NahianSiddique\\OneDrive - Blend 360\\Documents\\GitHub\\Snapshot2.0\\snapshot.py:168: RuntimeWarning: divide by zero encountered in log\n",
      "  PSI[row[\"Variable\"]][row[\"Category\"]][i + \"_PSI\"] = (row[uscol] - row[i]) * np.log(row[uscol] / row[i])\n"
     ]
    }
   ],
   "source": [
    "p.run_profiler()"
   ]
  },
  {
   "cell_type": "code",
   "execution_count": 7,
   "metadata": {},
   "outputs": [
    {
     "name": "stdout",
     "output_type": "stream",
     "text": [
      "<Worksheet \"hs_total_reward_stay_1yr\"> removed\n",
      "<Worksheet \"hs_longest_stay_1yr\"> removed\n",
      "<Worksheet \"hs_sum_nights_3plus_1yr\"> removed\n",
      "<Worksheet \"hs_sum_nights_2_1yr\"> removed\n",
      "<Worksheet \"hs_sum_nights_4_3yr\"> removed\n",
      "<Worksheet \"hs_total_foreign_stay\"> removed\n"
     ]
    }
   ],
   "source": [
    "p.create_visual(plot_index=False, chart_style=2)"
   ]
  },
  {
   "cell_type": "code",
   "execution_count": null,
   "metadata": {},
   "outputs": [],
   "source": []
  }
 ],
 "metadata": {
  "kernelspec": {
   "display_name": "Python 3.9.9 64-bit",
   "language": "python",
   "name": "python3"
  },
  "language_info": {
   "codemirror_mode": {
    "name": "ipython",
    "version": 3
   },
   "file_extension": ".py",
   "mimetype": "text/x-python",
   "name": "python",
   "nbconvert_exporter": "python",
   "pygments_lexer": "ipython3",
   "version": "3.9.9"
  },
  "vscode": {
   "interpreter": {
    "hash": "4ff96adc296d26945e5e7d51441f7818c5e76af415287e8de6a67e93b2ea9abf"
   }
  }
 },
 "nbformat": 4,
 "nbformat_minor": 2
}
