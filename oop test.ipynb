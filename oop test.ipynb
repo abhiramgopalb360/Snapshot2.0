{
 "cells": [
  {
   "cell_type": "code",
   "execution_count": 1,
   "metadata": {},
   "outputs": [],
   "source": [
    "import snapshot\n",
    "import pandas as pd"
   ]
  },
  {
   "cell_type": "code",
   "execution_count": 2,
   "metadata": {},
   "outputs": [],
   "source": [
    "def transform(df):\n",
    "    df[\"hs_max_party_size\"] = df[\"hs_max_party_size\"].apply(lambda x: str(int(x)) if x < 5 else \"5+\" if x >= 5 else x)\n",
    "\n",
    "    df[\"household_size\"] = df[\"household_size\"].apply(lambda x: str(int(x)) if x < 5 else \"5+\" if x >= 5 else x)\n",
    "    df[\"internet_media_channel_usage\"] = df[\"internet_media_channel_usage\"].apply(lambda x: \"1-3\" if x < 4 else \"4-6\" if x < 7 else \"7-10\")\n",
    "    df[\"cruise_vacations_propensity\"] = df[\"cruise_vacations_propensity\"].apply(lambda x: \"1-3\" if x < 4 else \"4-6\" if x < 7 else \"7-10\")\n",
    "    df[\"internet_purchases_propensity_score\"] = df[\"internet_purchases_propensity_score\"].apply(lambda x: \"1-3\" if x < 4 else \"4-6\" if x < 7 else \"7-10\")\n",
    "    df[\"NUMBER_OF_ADULTS_7628\"] = df[\"NUMBER_OF_ADULTS_7628\"].apply(lambda x: str(int(x)) if x < 5 else \"5+\" if x >= 5 else x)\n",
    "    df[\"NUMBER_OF_CHILDREN_7602\"] = df[\"NUMBER_OF_CHILDREN_7602\"].apply(lambda x: str(int(x)) if x < 4 else \"4+\" if x >= 4 else x)\n",
    "    df[\"phone_purchases_propensity_score\"] = df[\"phone_purchases_propensity_score\"].apply(lambda x: \"1-3\" if x < 4 else \"4-6\" if x < 7 else \"7-10\")\n",
    "\n",
    "    df[\"env_pref_seasons_selected\"] = df[\"env_pref_spring\"] + df[\"env_pref_summer\"] + df[\"env_pref_fall\"] + df[\"env_pref_winter\"]\n",
    "\n",
    "    return df"
   ]
  },
  {
   "cell_type": "code",
   "execution_count": 3,
   "metadata": {},
   "outputs": [],
   "source": [
    "df = pd.read_excel(r\"C:\\Users\\NahianSiddique\\OneDrive - Blend 360\\Hilton\\Analytical Projects\\HGV 2022 VIP Analysis\\Data\\Model Sample\\appended_data_4_group_subsample_20221222.xlsx\")\n",
    "\n",
    "df = df.drop(\n",
    "    columns=[\n",
    "        \"lead_id\",\n",
    "        \"t0_baseline_date\",\n",
    "        \"full_tour_id\",\n",
    "    ]\n",
    ")\n",
    "\n",
    "df = transform(df)"
   ]
  },
  {
   "cell_type": "code",
   "execution_count": 4,
   "metadata": {},
   "outputs": [],
   "source": [
    "segments = [\"DMC TS buyer\", \"VIP TS buyer\"]\n",
    "\n",
    "# Set up variables for snapshot\n",
    "file_name = \"test_profiles\"\n",
    "segment_var = \"source_name\"\n",
    "bin_vars_path = \"Data/HGV_VIP_attributes_binning.csv\"\n",
    "\n",
    "p = snapshot.Snapshot(\n",
    "    profile_data=df,\n",
    "    segment_var=segment_var,\n",
    "    segments=segments,\n",
    "    continuous_path=bin_vars_path,\n",
    "    nbins=5,\n",
    "    filename=file_name\n",
    ")"
   ]
  },
  {
   "cell_type": "code",
   "execution_count": 5,
   "metadata": {},
   "outputs": [
    {
     "name": "stderr",
     "output_type": "stream",
     "text": [
      "c:\\Users\\NahianSiddique\\OneDrive - Blend 360\\Documents\\GitHub\\Snapshot2.0\\snapshot.py:175: RuntimeWarning: divide by zero encountered in log\n",
      "  psi[row[\"Variable\"]][row[\"Category\"]][i + \"_PSI\"] = (row[uscol] - row[i]) * np.log(row[uscol] / row[i])\n"
     ]
    },
    {
     "name": "stdout",
     "output_type": "stream",
     "text": [
      "report2 skipped\n"
     ]
    }
   ],
   "source": [
    "p.run_profiler()"
   ]
  },
  {
   "cell_type": "code",
   "execution_count": 7,
   "metadata": {},
   "outputs": [
    {
     "data": {
      "text/html": [
       "<div><div id=e692ec1f-ba78-473e-9fb1-f6b8b02ac4d2 style=\"display:none; background-color:#9D6CFF; color:white; width:200px; height:30px; padding-left:5px; border-radius:4px; flex-direction:row; justify-content:space-around; align-items:center;\" onmouseover=\"this.style.backgroundColor='#BA9BF8'\" onmouseout=\"this.style.backgroundColor='#9D6CFF'\" onclick=\"window.commands?.execute('create-mitosheet-from-dataframe-output');\">See Full Dataframe in Mito</div> <script> if (window.commands?.hasCommand('create-mitosheet-from-dataframe-output')) document.getElementById('e692ec1f-ba78-473e-9fb1-f6b8b02ac4d2').style.display = 'flex' </script> <table border=\"1\" class=\"dataframe\">\n",
       "  <thead>\n",
       "    <tr style=\"text-align: right;\">\n",
       "      <th></th>\n",
       "      <th>Variable</th>\n",
       "      <th>Category</th>\n",
       "      <th>Count DMC TS buyer</th>\n",
       "      <th>Percent DMC TS buyer</th>\n",
       "      <th>Count VIP TS buyer</th>\n",
       "      <th>Percent VIP TS buyer</th>\n",
       "      <th>VIP TS buyer vs DMC TS buyer</th>\n",
       "    </tr>\n",
       "  </thead>\n",
       "  <tbody>\n",
       "    <tr>\n",
       "      <th>0</th>\n",
       "      <td>daydiff_since_first_pkg</td>\n",
       "      <td>(133.999, 762.6]</td>\n",
       "      <td>9.0</td>\n",
       "      <td>0.018</td>\n",
       "      <td>6.0</td>\n",
       "      <td>0.024</td>\n",
       "      <td>133.333333</td>\n",
       "    </tr>\n",
       "    <tr>\n",
       "      <th>1</th>\n",
       "      <td>daydiff_since_first_pkg</td>\n",
       "      <td>(762.6, 1031.8]</td>\n",
       "      <td>6.0</td>\n",
       "      <td>0.012</td>\n",
       "      <td>6.0</td>\n",
       "      <td>0.024</td>\n",
       "      <td>200.000000</td>\n",
       "    </tr>\n",
       "    <tr>\n",
       "      <th>2</th>\n",
       "      <td>daydiff_since_first_pkg</td>\n",
       "      <td>(1031.8, 1489.4]</td>\n",
       "      <td>13.0</td>\n",
       "      <td>0.026</td>\n",
       "      <td>5.0</td>\n",
       "      <td>0.020</td>\n",
       "      <td>76.923077</td>\n",
       "    </tr>\n",
       "    <tr>\n",
       "      <th>3</th>\n",
       "      <td>daydiff_since_first_pkg</td>\n",
       "      <td>(1489.4, 2326.4]</td>\n",
       "      <td>10.0</td>\n",
       "      <td>0.020</td>\n",
       "      <td>4.0</td>\n",
       "      <td>0.016</td>\n",
       "      <td>80.000000</td>\n",
       "    </tr>\n",
       "    <tr>\n",
       "      <th>4</th>\n",
       "      <td>daydiff_since_first_pkg</td>\n",
       "      <td>(2326.4, 4172.0]</td>\n",
       "      <td>13.0</td>\n",
       "      <td>0.026</td>\n",
       "      <td>7.0</td>\n",
       "      <td>0.028</td>\n",
       "      <td>107.692308</td>\n",
       "    </tr>\n",
       "    <tr>\n",
       "      <th>...</th>\n",
       "      <td>...</td>\n",
       "      <td>...</td>\n",
       "      <td>...</td>\n",
       "      <td>...</td>\n",
       "      <td>...</td>\n",
       "      <td>...</td>\n",
       "      <td>...</td>\n",
       "    </tr>\n",
       "    <tr>\n",
       "      <th>1379</th>\n",
       "      <td>slide_HCC_duration</td>\n",
       "      <td>NA</td>\n",
       "      <td>0.0</td>\n",
       "      <td>0.000</td>\n",
       "      <td>150.0</td>\n",
       "      <td>0.600</td>\n",
       "      <td>NaN</td>\n",
       "    </tr>\n",
       "    <tr>\n",
       "      <th>1380</th>\n",
       "      <td>slide_unknown_duration</td>\n",
       "      <td>0.0</td>\n",
       "      <td>0.0</td>\n",
       "      <td>0.000</td>\n",
       "      <td>90.0</td>\n",
       "      <td>0.360</td>\n",
       "      <td>NaN</td>\n",
       "    </tr>\n",
       "    <tr>\n",
       "      <th>1381</th>\n",
       "      <td>slide_unknown_duration</td>\n",
       "      <td>1.0</td>\n",
       "      <td>0.0</td>\n",
       "      <td>0.000</td>\n",
       "      <td>9.0</td>\n",
       "      <td>0.036</td>\n",
       "      <td>NaN</td>\n",
       "    </tr>\n",
       "    <tr>\n",
       "      <th>1382</th>\n",
       "      <td>slide_unknown_duration</td>\n",
       "      <td>4.0</td>\n",
       "      <td>0.0</td>\n",
       "      <td>0.000</td>\n",
       "      <td>1.0</td>\n",
       "      <td>0.004</td>\n",
       "      <td>NaN</td>\n",
       "    </tr>\n",
       "    <tr>\n",
       "      <th>1383</th>\n",
       "      <td>slide_unknown_duration</td>\n",
       "      <td>NA</td>\n",
       "      <td>0.0</td>\n",
       "      <td>0.000</td>\n",
       "      <td>150.0</td>\n",
       "      <td>0.600</td>\n",
       "      <td>NaN</td>\n",
       "    </tr>\n",
       "  </tbody>\n",
       "</table></div>"
      ],
      "text/plain": [
       "                     Variable          Category  Count DMC TS buyer  \\\n",
       "0     daydiff_since_first_pkg  (133.999, 762.6]                 9.0   \n",
       "1     daydiff_since_first_pkg   (762.6, 1031.8]                 6.0   \n",
       "2     daydiff_since_first_pkg  (1031.8, 1489.4]                13.0   \n",
       "3     daydiff_since_first_pkg  (1489.4, 2326.4]                10.0   \n",
       "4     daydiff_since_first_pkg  (2326.4, 4172.0]                13.0   \n",
       "...                       ...               ...                 ...   \n",
       "1379       slide_HCC_duration                NA                 0.0   \n",
       "1380   slide_unknown_duration               0.0                 0.0   \n",
       "1381   slide_unknown_duration               1.0                 0.0   \n",
       "1382   slide_unknown_duration               4.0                 0.0   \n",
       "1383   slide_unknown_duration                NA                 0.0   \n",
       "\n",
       "      Percent DMC TS buyer  Count VIP TS buyer  Percent VIP TS buyer  \\\n",
       "0                    0.018                 6.0                 0.024   \n",
       "1                    0.012                 6.0                 0.024   \n",
       "2                    0.026                 5.0                 0.020   \n",
       "3                    0.020                 4.0                 0.016   \n",
       "4                    0.026                 7.0                 0.028   \n",
       "...                    ...                 ...                   ...   \n",
       "1379                 0.000               150.0                 0.600   \n",
       "1380                 0.000                90.0                 0.360   \n",
       "1381                 0.000                 9.0                 0.036   \n",
       "1382                 0.000                 1.0                 0.004   \n",
       "1383                 0.000               150.0                 0.600   \n",
       "\n",
       "      VIP TS buyer vs DMC TS buyer  \n",
       "0                       133.333333  \n",
       "1                       200.000000  \n",
       "2                        76.923077  \n",
       "3                        80.000000  \n",
       "4                       107.692308  \n",
       "...                            ...  \n",
       "1379                           NaN  \n",
       "1380                           NaN  \n",
       "1381                           NaN  \n",
       "1382                           NaN  \n",
       "1383                           NaN  \n",
       "\n",
       "[1384 rows x 7 columns]"
      ]
     },
     "execution_count": 7,
     "metadata": {},
     "output_type": "execute_result"
    }
   ],
   "source": [
    "p.profile"
   ]
  },
  {
   "cell_type": "code",
   "execution_count": 7,
   "metadata": {},
   "outputs": [
    {
     "name": "stdout",
     "output_type": "stream",
     "text": [
      "<Worksheet \"hs_total_reward_stay_1yr\"> removed\n",
      "<Worksheet \"hs_longest_stay_1yr\"> removed\n",
      "<Worksheet \"hs_sum_nights_3plus_1yr\"> removed\n",
      "<Worksheet \"hs_sum_nights_2_1yr\"> removed\n",
      "<Worksheet \"hs_sum_nights_4_3yr\"> removed\n",
      "<Worksheet \"hs_total_foreign_stay\"> removed\n"
     ]
    }
   ],
   "source": [
    "p.create_visual(plot_index=False, chart_style=2)"
   ]
  },
  {
   "cell_type": "code",
   "execution_count": null,
   "metadata": {},
   "outputs": [],
   "source": []
  }
 ],
 "metadata": {
  "kernelspec": {
   "display_name": "Python 3.9.9 64-bit",
   "language": "python",
   "name": "python3"
  },
  "language_info": {
   "codemirror_mode": {
    "name": "ipython",
    "version": 3
   },
   "file_extension": ".py",
   "mimetype": "text/x-python",
   "name": "python",
   "nbconvert_exporter": "python",
   "pygments_lexer": "ipython3",
   "version": "3.9.9"
  },
  "vscode": {
   "interpreter": {
    "hash": "4ff96adc296d26945e5e7d51441f7818c5e76af415287e8de6a67e93b2ea9abf"
   }
  }
 },
 "nbformat": 4,
 "nbformat_minor": 2
}
