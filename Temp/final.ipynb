{
 "cells": [
  {
   "cell_type": "code",
   "execution_count": 1,
   "metadata": {},
   "outputs": [],
   "source": [
    "import Snapshot_code\n",
    "import pandas as pd"
   ]
  },
  {
   "cell_type": "code",
   "execution_count": null,
   "metadata": {},
   "outputs": [],
   "source": [
    "def transform(df):\n",
    "    df[\"hs_max_party_size\"] = df[\"hs_max_party_size\"].apply(lambda x: str(int(x)) if x < 5 else \"5+\" if x >= 5 else x)\n",
    "\n",
    "    df[\"household_size\"] = df[\"household_size\"].apply(lambda x: str(int(x)) if x < 5 else \"5+\" if x >= 5 else x)\n",
    "    df[\"internet_media_channel_usage\"] = df[\"internet_media_channel_usage\"].apply(lambda x: \"1-3\" if x < 4 else \"4-6\" if x < 7 else \"7-10\")\n",
    "    df[\"cruise_vacations_propensity\"] = df[\"cruise_vacations_propensity\"].apply(lambda x: \"1-3\" if x < 4 else \"4-6\" if x < 7 else \"7-10\")\n",
    "    df[\"internet_purchases_propensity_score\"] = df[\"internet_purchases_propensity_score\"].apply(lambda x: \"1-3\" if x < 4 else \"4-6\" if x < 7 else \"7-10\")\n",
    "    df[\"NUMBER_OF_ADULTS_7628\"] = df[\"NUMBER_OF_ADULTS_7628\"].apply(lambda x: str(int(x)) if x < 5 else \"5+\" if x >= 5 else x)\n",
    "    df[\"NUMBER_OF_CHILDREN_7602\"] = df[\"NUMBER_OF_CHILDREN_7602\"].apply(lambda x: str(int(x)) if x < 4 else \"4+\" if x >= 4 else x)\n",
    "    df[\"phone_purchases_propensity_score\"] = df[\"phone_purchases_propensity_score\"].apply(lambda x: \"1-3\" if x < 4 else \"4-6\" if x < 7 else \"7-10\")\n",
    "\n",
    "    df[\"dream_Africa_ME\"] = df[\"dream_Africa_ME\"].apply(lambda x: 1 if x > 0 else 0 if x == 0 else x)\n",
    "    df[\"dream_Asia\"] = df[\"dream_Asia\"].apply(lambda x: 1 if x > 0 else 0 if x == 0 else x)\n",
    "    df[\"dream_Caribbean\"] = df[\"dream_Caribbean\"].apply(lambda x: 1 if x > 0 else 0 if x == 0 else x)\n",
    "    df[\"dream_Europe\"] = df[\"dream_Europe\"].apply(lambda x: 1 if x > 0 else 0 if x == 0 else x)\n",
    "    df[\"dream_HI\"] = df[\"dream_HI\"].apply(lambda x: 1 if x > 0 else 0 if x == 0 else x)\n",
    "    df[\"dream_Mexico\"] = df[\"dream_Mexico\"].apply(lambda x: 1 if x > 0 else 0 if x == 0 else x)\n",
    "    df[\"dream_South_America\"] = df[\"dream_South_America\"].apply(lambda x: 1 if x > 0 else 0 if x == 0 else x)\n",
    "    df[\"dream_USA\"] = df[\"dream_USA\"].apply(lambda x: 1 if x > 0 else 0 if x == 0 else x)\n",
    "    df[\"dream_Italy\"] = df[\"dream_Italy\"].apply(lambda x: 1 if x > 0 else 0 if x == 0 else x)\n",
    "    df[\"dream_FR\"] = df[\"dream_FR\"].apply(lambda x: 1 if x > 0 else 0 if x == 0 else x)\n",
    "    df[\"dream_South_Africa\"] = df[\"dream_South_Africa\"].apply(lambda x: 1 if x > 0 else 0 if x == 0 else x)\n",
    "    df[\"dream_Dubai\"] = df[\"dream_Dubai\"].apply(lambda x: 1 if x > 0 else 0 if x == 0 else x)\n",
    "    df[\"dream_island\"] = df[\"dream_island\"].apply(lambda x: 1 if x > 0 else 0 if x == 0 else x)\n",
    "\n",
    "    df[\"env_pref_seasons_selected\"] = df[\"env_pref_spring\"] + df[\"env_pref_summer\"] + df[\"env_pref_fall\"] + df[\"env_pref_winter\"]\n",
    "\n",
    "    return df"
   ]
  },
  {
   "cell_type": "code",
   "execution_count": null,
   "metadata": {},
   "outputs": [],
   "source": [
    "def encode(source, date_group):\n",
    "    if source==1 and date_group==\"21-22\":\n",
    "        return \"DMC TS buyer\"\n",
    "    if source==2 and date_group==\"21-22\":\n",
    "        return \"Tour-no-buy no-VIP\"\n",
    "    if source==5 and date_group==\"18-19\":\n",
    "        return \"VIP Contract buyer (no-TS)\"\n",
    "    if source==4 and date_group==\"21-22\":\n",
    "        return \"VIP TS buyer\"\n",
    "    return \"other\""
   ]
  },
  {
   "cell_type": "code",
   "execution_count": null,
   "metadata": {},
   "outputs": [],
   "source": [
    "# df = pd.read_excel(r\"C:\\Users\\NahianSiddique\\OneDrive - Blend 360\\Hilton\\Analytical Projects\\HGV 2022 VIP Analysis\\Data\\Model Sample\\appended_data_4_group_20221222.xlsx\")\n",
    "df = pd.read_excel(r\"C:\\Users\\NahianSiddique\\OneDrive - Blend 360\\Hilton\\Analytical Projects\\HGV 2022 VIP Analysis\\Data\\Model Sample\\appended_data_vip_contracts_20221222.xlsx\")\n",
    "\n",
    "df = df.drop(\n",
    "    columns=[\n",
    "        \"lead_id\",\n",
    "        \"t0_baseline_date\",\n",
    "        \"full_tour_id\",\n",
    "    ]\n",
    ")\n",
    "\n",
    "df = transform(df)"
   ]
  },
  {
   "cell_type": "code",
   "execution_count": null,
   "metadata": {},
   "outputs": [],
   "source": [
    "df[\"source_name\"] = df.apply(lambda x: encode(x[\"source\"], x[\"date_group\"]), axis=1)"
   ]
  },
  {
   "cell_type": "code",
   "execution_count": null,
   "metadata": {},
   "outputs": [],
   "source": [
    "# mapping_dict = {\n",
    "#     \"Baseline\": \"DMC TS buyer\",\n",
    "#     \"Segment_1\": \"Tour-no-buy no-VIP\",\n",
    "#     # \"Segment_2\": \"VIP Contract buyer (no-TS)\",\n",
    "#     # \"Segment_3\": \"VIP TS buyer\",\n",
    "# }\n",
    "mapping_dict = {\n",
    "    \"Baseline\": \"VIP Contract buyer 18-19\",\n",
    "    \"Segment_1\": \"VIP Contract buyer 21-22\",\n",
    "}\n",
    "\n",
    "# Set up variables for snapshot\n",
    "file_name = \"profiles_VIP_contract\"\n",
    "seg_var = \"source_name\"\n",
    "bin_vars_path = \"Data/HGV_VIP_attributes_binning.csv\"\n",
    "\n",
    "profile = Snapshot_code.Snapshot_Profile(\n",
    "    profile_data=df,\n",
    "    segment_var=seg_var,\n",
    "    continuous_path=bin_vars_path,\n",
    "    segments=None,\n",
    "    segment_names=None,\n",
    "    include=None,\n",
    "    variable_order=None,\n",
    "    nbins=5,\n",
    "    other_segment=False,\n",
    "    file=file_name,\n",
    "    exclude=[],\n",
    "    PPT=True,\n",
    "    plot_index=False,\n",
    "    continuous=[],\n",
    "    excludeother=False,\n",
    "    mapping_dict=mapping_dict,\n",
    ")"
   ]
  },
  {
   "cell_type": "code",
   "execution_count": null,
   "metadata": {},
   "outputs": [],
   "source": [
    "raise"
   ]
  },
  {
   "cell_type": "code",
   "execution_count": 2,
   "metadata": {},
   "outputs": [],
   "source": [
    "df2 = pd.read_csv(r\"C:\\Users\\NahianSiddique\\OneDrive - Blend 360\\Hilton\\Analytical Projects\\HGV 2022 VIP Analysis\\Data\\Acxiom Data\\VIP_PII_20221222.csv\")"
   ]
  },
  {
   "cell_type": "code",
   "execution_count": 3,
   "metadata": {},
   "outputs": [
    {
     "data": {
      "text/html": [
       "<div><div id=1bf07657-eb90-488e-9b8d-f58da3f098f2 style=\"display:none; background-color:#9D6CFF; color:white; width:200px; height:30px; padding-left:5px; border-radius:4px; flex-direction:row; justify-content:space-around; align-items:center;\" onmouseover=\"this.style.backgroundColor='#BA9BF8'\" onmouseout=\"this.style.backgroundColor='#9D6CFF'\" onclick=\"window.commands?.execute('create-mitosheet-from-dataframe-output');\">See Full Dataframe in Mito</div> <script> if (window.commands?.hasCommand('create-mitosheet-from-dataframe-output')) document.getElementById('1bf07657-eb90-488e-9b8d-f58da3f098f2').style.display = 'flex' </script> <table border=\"1\" class=\"dataframe\">\n",
       "  <thead>\n",
       "    <tr style=\"text-align: right;\">\n",
       "      <th>date_group</th>\n",
       "      <th>18-19</th>\n",
       "      <th>21-22</th>\n",
       "    </tr>\n",
       "    <tr>\n",
       "      <th>source</th>\n",
       "      <th></th>\n",
       "      <th></th>\n",
       "    </tr>\n",
       "  </thead>\n",
       "  <tbody>\n",
       "    <tr>\n",
       "      <th>1</th>\n",
       "      <td>0</td>\n",
       "      <td>24119</td>\n",
       "    </tr>\n",
       "    <tr>\n",
       "      <th>2</th>\n",
       "      <td>0</td>\n",
       "      <td>50000</td>\n",
       "    </tr>\n",
       "    <tr>\n",
       "      <th>3</th>\n",
       "      <td>26942</td>\n",
       "      <td>22279</td>\n",
       "    </tr>\n",
       "    <tr>\n",
       "      <th>4</th>\n",
       "      <td>3598</td>\n",
       "      <td>825</td>\n",
       "    </tr>\n",
       "    <tr>\n",
       "      <th>5</th>\n",
       "      <td>23344</td>\n",
       "      <td>0</td>\n",
       "    </tr>\n",
       "  </tbody>\n",
       "</table></div>"
      ],
      "text/plain": [
       "date_group  18-19  21-22\n",
       "source                  \n",
       "1               0  24119\n",
       "2               0  50000\n",
       "3           26942  22279\n",
       "4            3598    825\n",
       "5           23344      0"
      ]
     },
     "execution_count": 3,
     "metadata": {},
     "output_type": "execute_result"
    }
   ],
   "source": [
    "pd.crosstab(df2.source, df2.date_group)"
   ]
  },
  {
   "cell_type": "code",
   "execution_count": 4,
   "metadata": {},
   "outputs": [],
   "source": [
    "def encode(source, date_group):\n",
    "    if source==3 and date_group==\"18-19\":\n",
    "        return \"VIP Contract buyer 18-19\"\n",
    "    if source==3 and date_group==\"21-22\":\n",
    "        return \"VIP Contract buyer 21-22\"\n",
    "    return \"other\"\n",
    "\n",
    "df2[\"source_name\"] = df2.apply(lambda x: encode(x[\"source\"], x[\"date_group\"]), axis=1)"
   ]
  },
  {
   "cell_type": "code",
   "execution_count": 5,
   "metadata": {},
   "outputs": [],
   "source": [
    "def region_encode(x):\n",
    "    import numpy as np\n",
    "    if x in ('CT', 'ME','MA','NH','RI','VT'):\n",
    "        return 'New England'\n",
    "    if x in ('DE','DC','MD','NJ','NY','PA'):\n",
    "        return 'Mid Atlantic'\n",
    "    if x in ('AL','AR','FL','GA','KY','LA','MS','NC','SC','TN','VA','WV' ):\n",
    "        return 'Southeast'\n",
    "    if x in ('IL','MI','OH','WI','IN' ):\n",
    "        return 'Great Lakes'\n",
    "    if x in ('IA','KS','MN','MO','NE','ND','SD'):\n",
    "        return 'Plains'\n",
    "    if x in ('CO','ID','MT','UT','WY' ):\n",
    "        return 'Rocky Mountain'\n",
    "    if x in ('AZ','NV','NM','OK','TX' ):\n",
    "        return 'Southwest'\n",
    "    if x in ('AK','CA','HI','OR','WA' ):\n",
    "        return 'Pacific' \n",
    "    else:\n",
    "        return np.nan"
   ]
  },
  {
   "cell_type": "code",
   "execution_count": 6,
   "metadata": {},
   "outputs": [],
   "source": [
    "df2[\"region\"] = df2[\"state_code\"].apply(region_encode)"
   ]
  },
  {
   "cell_type": "code",
   "execution_count": 7,
   "metadata": {},
   "outputs": [],
   "source": [
    "df2 = df2[\n",
    "    [\n",
    "        \"source_name\",\n",
    "        \"region\",\n",
    "        \"TIER\"\n",
    "    ]\n",
    "]"
   ]
  },
  {
   "cell_type": "code",
   "execution_count": 8,
   "metadata": {},
   "outputs": [
    {
     "name": "stderr",
     "output_type": "stream",
     "text": [
      "c:\\Users\\NahianSiddique\\OneDrive - Blend 360\\Documents\\GitHub\\Snapshot2.0\\Snapshot_code.py:557: UserWarning: Incorrect length of names, replacing by segments\n",
      "  warnings.warn(\"Incorrect length of names, replacing by segments\")\n",
      "c:\\Users\\NahianSiddique\\AppData\\Local\\Programs\\Python\\Python39\\lib\\site-packages\\pandas\\core\\indexing.py:1843: SettingWithCopyWarning: \n",
      "A value is trying to be set on a copy of a slice from a DataFrame.\n",
      "Try using .loc[row_indexer,col_indexer] = value instead\n",
      "\n",
      "See the caveats in the documentation: https://pandas.pydata.org/pandas-docs/stable/user_guide/indexing.html#returning-a-view-versus-a-copy\n",
      "  self.obj[item_labels[indexer[info_axis]]] = value\n",
      "c:\\Users\\NahianSiddique\\OneDrive - Blend 360\\Documents\\GitHub\\Snapshot2.0\\explorer.py:102: SettingWithCopyWarning: \n",
      "A value is trying to be set on a copy of a slice from a DataFrame.\n",
      "Try using .loc[row_indexer,col_indexer] = value instead\n",
      "\n",
      "See the caveats in the documentation: https://pandas.pydata.org/pandas-docs/stable/user_guide/indexing.html#returning-a-view-versus-a-copy\n",
      "  _sub_df['cut_up_variable'] = _sub_df[variable.name]\n",
      "c:\\Users\\NahianSiddique\\AppData\\Local\\Programs\\Python\\Python39\\lib\\site-packages\\pandas\\core\\indexing.py:1843: SettingWithCopyWarning: \n",
      "A value is trying to be set on a copy of a slice from a DataFrame.\n",
      "Try using .loc[row_indexer,col_indexer] = value instead\n",
      "\n",
      "See the caveats in the documentation: https://pandas.pydata.org/pandas-docs/stable/user_guide/indexing.html#returning-a-view-versus-a-copy\n",
      "  self.obj[item_labels[indexer[info_axis]]] = value\n",
      "c:\\Users\\NahianSiddique\\OneDrive - Blend 360\\Documents\\GitHub\\Snapshot2.0\\explorer.py:102: SettingWithCopyWarning: \n",
      "A value is trying to be set on a copy of a slice from a DataFrame.\n",
      "Try using .loc[row_indexer,col_indexer] = value instead\n",
      "\n",
      "See the caveats in the documentation: https://pandas.pydata.org/pandas-docs/stable/user_guide/indexing.html#returning-a-view-versus-a-copy\n",
      "  _sub_df['cut_up_variable'] = _sub_df[variable.name]\n",
      "c:\\Users\\NahianSiddique\\AppData\\Local\\Programs\\Python\\Python39\\lib\\site-packages\\pandas\\core\\indexing.py:1843: SettingWithCopyWarning: \n",
      "A value is trying to be set on a copy of a slice from a DataFrame.\n",
      "Try using .loc[row_indexer,col_indexer] = value instead\n",
      "\n",
      "See the caveats in the documentation: https://pandas.pydata.org/pandas-docs/stable/user_guide/indexing.html#returning-a-view-versus-a-copy\n",
      "  self.obj[item_labels[indexer[info_axis]]] = value\n",
      "c:\\Users\\NahianSiddique\\OneDrive - Blend 360\\Documents\\GitHub\\Snapshot2.0\\explorer.py:102: SettingWithCopyWarning: \n",
      "A value is trying to be set on a copy of a slice from a DataFrame.\n",
      "Try using .loc[row_indexer,col_indexer] = value instead\n",
      "\n",
      "See the caveats in the documentation: https://pandas.pydata.org/pandas-docs/stable/user_guide/indexing.html#returning-a-view-versus-a-copy\n",
      "  _sub_df['cut_up_variable'] = _sub_df[variable.name]\n",
      "c:\\Users\\NahianSiddique\\AppData\\Local\\Programs\\Python\\Python39\\lib\\site-packages\\pandas\\core\\indexing.py:1843: SettingWithCopyWarning: \n",
      "A value is trying to be set on a copy of a slice from a DataFrame.\n",
      "Try using .loc[row_indexer,col_indexer] = value instead\n",
      "\n",
      "See the caveats in the documentation: https://pandas.pydata.org/pandas-docs/stable/user_guide/indexing.html#returning-a-view-versus-a-copy\n",
      "  self.obj[item_labels[indexer[info_axis]]] = value\n",
      "c:\\Users\\NahianSiddique\\OneDrive - Blend 360\\Documents\\GitHub\\Snapshot2.0\\explorer.py:102: SettingWithCopyWarning: \n",
      "A value is trying to be set on a copy of a slice from a DataFrame.\n",
      "Try using .loc[row_indexer,col_indexer] = value instead\n",
      "\n",
      "See the caveats in the documentation: https://pandas.pydata.org/pandas-docs/stable/user_guide/indexing.html#returning-a-view-versus-a-copy\n",
      "  _sub_df['cut_up_variable'] = _sub_df[variable.name]\n",
      "c:\\Users\\NahianSiddique\\OneDrive - Blend 360\\Documents\\GitHub\\Snapshot2.0\\Snapshot_code.py:618: SettingWithCopyWarning: \n",
      "A value is trying to be set on a copy of a slice from a DataFrame\n",
      "\n",
      "See the caveats in the documentation: https://pandas.pydata.org/pandas-docs/stable/user_guide/indexing.html#returning-a-view-versus-a-copy\n",
      "  profile[i][profile[i].isna()] = 0\n",
      "c:\\Users\\NahianSiddique\\OneDrive - Blend 360\\Documents\\GitHub\\Snapshot2.0\\Snapshot_code.py:620: SettingWithCopyWarning: \n",
      "A value is trying to be set on a copy of a slice from a DataFrame\n",
      "\n",
      "See the caveats in the documentation: https://pandas.pydata.org/pandas-docs/stable/user_guide/indexing.html#returning-a-view-versus-a-copy\n",
      "  profile[i][profile[i].isna()] = 0\n"
     ]
    },
    {
     "name": "stdout",
     "output_type": "stream",
     "text": [
      "Category skipped\n"
     ]
    },
    {
     "name": "stderr",
     "output_type": "stream",
     "text": [
      "c:\\Users\\NahianSiddique\\AppData\\Local\\Programs\\Python\\Python39\\lib\\site-packages\\pandas\\core\\indexing.py:1597: SettingWithCopyWarning: \n",
      "A value is trying to be set on a copy of a slice from a DataFrame.\n",
      "Try using .loc[row_indexer,col_indexer] = value instead\n",
      "\n",
      "See the caveats in the documentation: https://pandas.pydata.org/pandas-docs/stable/user_guide/indexing.html#returning-a-view-versus-a-copy\n",
      "  self.obj[key] = value\n",
      "c:\\Users\\NahianSiddique\\AppData\\Local\\Programs\\Python\\Python39\\lib\\site-packages\\pandas\\core\\indexing.py:1676: SettingWithCopyWarning: \n",
      "A value is trying to be set on a copy of a slice from a DataFrame.\n",
      "Try using .loc[row_indexer,col_indexer] = value instead\n",
      "\n",
      "See the caveats in the documentation: https://pandas.pydata.org/pandas-docs/stable/user_guide/indexing.html#returning-a-view-versus-a-copy\n",
      "  self._setitem_single_column(ilocs[0], value, pi)\n",
      "c:\\Users\\NahianSiddique\\AppData\\Local\\Programs\\Python\\Python39\\lib\\site-packages\\pandas\\core\\indexing.py:1597: SettingWithCopyWarning: \n",
      "A value is trying to be set on a copy of a slice from a DataFrame.\n",
      "Try using .loc[row_indexer,col_indexer] = value instead\n",
      "\n",
      "See the caveats in the documentation: https://pandas.pydata.org/pandas-docs/stable/user_guide/indexing.html#returning-a-view-versus-a-copy\n",
      "  self.obj[key] = value\n",
      "c:\\Users\\NahianSiddique\\AppData\\Local\\Programs\\Python\\Python39\\lib\\site-packages\\pandas\\core\\indexing.py:1676: SettingWithCopyWarning: \n",
      "A value is trying to be set on a copy of a slice from a DataFrame.\n",
      "Try using .loc[row_indexer,col_indexer] = value instead\n",
      "\n",
      "See the caveats in the documentation: https://pandas.pydata.org/pandas-docs/stable/user_guide/indexing.html#returning-a-view-versus-a-copy\n",
      "  self._setitem_single_column(ilocs[0], value, pi)\n"
     ]
    }
   ],
   "source": [
    "# mapping_dict = {\n",
    "#     \"Baseline\": \"DMC TS buyer\",\n",
    "#     \"Segment_1\": \"Tour-no-buy no-VIP\",\n",
    "#     \"Segment_2\": \"VIP Contract buyer (no-TS)\",\n",
    "#     \"Segment_3\": \"VIP TS buyer\",\n",
    "# }\n",
    "mapping_dict = {\n",
    "    \"Baseline\": \"VIP Contract buyer 18-19\",\n",
    "    \"Segment_1\": \"VIP Contract buyer 21-22\",\n",
    "}\n",
    "\n",
    "# Set up variables for snapshot\n",
    "file_name = \"profiles_vip_contract_group_geo_and_HH\"\n",
    "seg_var = \"source_name\"\n",
    "bin_vars_path = \"Data/HGV_VIP_attributes_binning.csv\"\n",
    "\n",
    "profile = Snapshot_code.Snapshot_Profile(\n",
    "    profile_data=df2,\n",
    "    segment_var=seg_var,\n",
    "    continuous_path=bin_vars_path,\n",
    "    segments=None,\n",
    "    segment_names=None,\n",
    "    include=None,\n",
    "    variable_order=None,\n",
    "    nbins=5,\n",
    "    other_segment=False,\n",
    "    file=file_name,\n",
    "    exclude=[],\n",
    "    PPT=True,\n",
    "    plot_index=False,\n",
    "    continuous=[],\n",
    "    excludeother=False,\n",
    "    mapping_dict=mapping_dict,\n",
    ")"
   ]
  }
 ],
 "metadata": {
  "kernelspec": {
   "display_name": "Python 3.9.9 64-bit",
   "language": "python",
   "name": "python3"
  },
  "language_info": {
   "codemirror_mode": {
    "name": "ipython",
    "version": 3
   },
   "file_extension": ".py",
   "mimetype": "text/x-python",
   "name": "python",
   "nbconvert_exporter": "python",
   "pygments_lexer": "ipython3",
   "version": "3.9.9"
  },
  "vscode": {
   "interpreter": {
    "hash": "4ff96adc296d26945e5e7d51441f7818c5e76af415287e8de6a67e93b2ea9abf"
   }
  }
 },
 "nbformat": 4,
 "nbformat_minor": 2
}
