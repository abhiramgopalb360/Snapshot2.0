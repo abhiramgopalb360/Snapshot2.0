{
 "cells": [
  {
   "cell_type": "code",
   "execution_count": 4,
   "metadata": {},
   "outputs": [],
   "source": [
    "import Snapshot_code\n",
    "import pandas as pd"
   ]
  },
  {
   "cell_type": "code",
   "execution_count": 5,
   "metadata": {},
   "outputs": [],
   "source": [
    "def transform(df):\n",
    "    df[\"hs_max_party_size\"] = df[\"hs_max_party_size\"].apply(lambda x: str(int(x)) if x < 5 else \"5+\" if x >= 5 else x)\n",
    "\n",
    "    df[\"dream_Africa_ME\"] = df[\"dream_Africa_ME\"].apply(lambda x: 1 if x > 0 else 0 if x == 0 else x)\n",
    "    df[\"dream_Asia\"] = df[\"dream_Asia\"].apply(lambda x: 1 if x > 0 else 0 if x == 0 else x)\n",
    "    df[\"dream_Caribbean\"] = df[\"dream_Caribbean\"].apply(lambda x: 1 if x > 0 else 0 if x == 0 else x)\n",
    "    df[\"dream_Europe\"] = df[\"dream_Europe\"].apply(lambda x: 1 if x > 0 else 0 if x == 0 else x)\n",
    "    df[\"dream_HI\"] = df[\"dream_HI\"].apply(lambda x: 1 if x > 0 else 0 if x == 0 else x)\n",
    "    df[\"dream_Mexico\"] = df[\"dream_Mexico\"].apply(lambda x: 1 if x > 0 else 0 if x == 0 else x)\n",
    "    df[\"dream_South_America\"] = df[\"dream_South_America\"].apply(lambda x: 1 if x > 0 else 0 if x == 0 else x)\n",
    "    df[\"dream_USA\"] = df[\"dream_USA\"].apply(lambda x: 1 if x > 0 else 0 if x == 0 else x)\n",
    "    df[\"dream_Italy\"] = df[\"dream_Italy\"].apply(lambda x: 1 if x > 0 else 0 if x == 0 else x)\n",
    "    df[\"dream_FR\"] = df[\"dream_FR\"].apply(lambda x: 1 if x > 0 else 0 if x == 0 else x)\n",
    "    df[\"dream_South_Africa\"] = df[\"dream_South_Africa\"].apply(lambda x: 1 if x > 0 else 0 if x == 0 else x)\n",
    "    df[\"dream_Dubai\"] = df[\"dream_Dubai\"].apply(lambda x: 1 if x > 0 else 0 if x == 0 else x)\n",
    "    df[\"dream_island\"] = df[\"dream_island\"].apply(lambda x: 1 if x > 0 else 0 if x == 0 else x)\n",
    "\n",
    "    return df"
   ]
  },
  {
   "cell_type": "code",
   "execution_count": 6,
   "metadata": {},
   "outputs": [],
   "source": [
    "# new_df2 = pd.read_excel(r\"C:\\Users\\NahianSiddique\\OneDrive - Blend 360\\Hilton\\Analytical Projects\\HGV 2022 VIP Analysis\\Data\\Model Sample\\appended_data_18_19_20221213.xlsx\")\n",
    "new_df2 = pd.read_excel(r\"C:\\Users\\NahianSiddique\\OneDrive - Blend 360\\Hilton\\Analytical Projects\\HGV 2022 VIP Analysis\\Data\\Model Sample\\appended_data_21_22_20221213.xlsx\")\n",
    "\n",
    "new_df2 = new_df2.drop(\n",
    "    columns=[\n",
    "        \"lead_id\",\n",
    "        \"t0_baseline_date\",\n",
    "        \"full_tour_id\",\n",
    "    ]\n",
    ")"
   ]
  },
  {
   "cell_type": "code",
   "execution_count": null,
   "metadata": {},
   "outputs": [],
   "source": [
    "# mapping_dict = {\"Baseline\": \"dataset_1\", \"Segment_1\": \"dataset_2\", \"Segment_2\": \"dataset_3\"}\n",
    "mapping_dict = {\"Baseline\": \"dataset_2\", \"Segment_1\": \"dataset_3\"}\n",
    "# mapping_dict = {\"Baseline\": \"dataset_1\", \"Segment_1\": \"dataset_4\"}\n",
    "\n",
    "# Set up variables for snapshot\n",
    "file_name = \"profiles_2-3_21-22\"\n",
    "seg_var = \"source\"\n",
    "bin_vars_path = \"Data/HGV_VIP_attributes_binning.csv\"\n",
    "# Read in file and set bins"
   ]
  },
  {
   "cell_type": "code",
   "execution_count": null,
   "metadata": {},
   "outputs": [],
   "source": [
    "profile = Snapshot_code.Snapshot_Profile(\n",
    "    profile_data=new_df2,\n",
    "    segment_var=seg_var,\n",
    "    continuous_path=bin_vars_path,\n",
    "    segments=None,\n",
    "    segment_names=None,\n",
    "    include=None,\n",
    "    variable_order=None,\n",
    "    nbins=5,\n",
    "    other_segment=False,\n",
    "    file=file_name,\n",
    "    exclude=[],\n",
    "    PPT=True,\n",
    "    plot_index=False,\n",
    "    continuous=[],\n",
    "    excludeother=False,\n",
    "    mapping_dict=mapping_dict,\n",
    ")"
   ]
  }
 ],
 "metadata": {
  "kernelspec": {
   "display_name": "Python 3.9.9 64-bit",
   "language": "python",
   "name": "python3"
  },
  "language_info": {
   "codemirror_mode": {
    "name": "ipython",
    "version": 3
   },
   "file_extension": ".py",
   "mimetype": "text/x-python",
   "name": "python",
   "nbconvert_exporter": "python",
   "pygments_lexer": "ipython3",
   "version": "3.9.9"
  },
  "vscode": {
   "interpreter": {
    "hash": "4ff96adc296d26945e5e7d51441f7818c5e76af415287e8de6a67e93b2ea9abf"
   }
  }
 },
 "nbformat": 4,
 "nbformat_minor": 2
}
