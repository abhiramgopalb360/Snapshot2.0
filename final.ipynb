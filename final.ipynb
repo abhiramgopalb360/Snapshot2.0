{
 "cells": [
  {
   "cell_type": "code",
   "execution_count": 5,
   "metadata": {},
   "outputs": [
    {
     "name": "stdout",
     "output_type": "stream",
     "text": [
      "20221025\n",
      "<Worksheet \"DS_MAGAZINE_LIFE_QUINTILE\"> removed\n",
      "<Worksheet \"DS_GREEN_THUMB_QUINTILE\"> removed\n",
      "<Worksheet \"DS_GIFTS_FOR_ALL_QUINTILE\"> removed\n",
      "<Worksheet \"VEHICLE_YEAR_4\"> removed\n",
      "<Worksheet \"VEHICLE_YEAR_3\"> removed\n",
      "<Worksheet \"VEHICLE_STYLE_CODE_4\"> removed\n",
      "<Worksheet \"VEHICLE_MILEAGE_CODE_3\"> removed\n",
      "<Worksheet \"VEHICLE_MANUFACTURING_CODE_4\"> removed\n",
      "<Worksheet \"VEHICLE_MAKE_4\"> removed\n",
      "<Worksheet \"VEHICLE_MAKE_3\"> removed\n",
      "<Worksheet \"VEHICLE_LAST_SEEN_DATE_4\"> removed\n",
      "<Worksheet \"VEHICLE_LAST_SEEN_DATE_3\"> removed\n",
      "<Worksheet \"VEHICLE_FIRST_SEEN_DATE_4\"> removed\n",
      "<Worksheet \"VEHICLE_FIRST_SEEN_DATE_3\"> removed\n",
      "<Worksheet \"VEHICLE_CLASS_CODE_4\"> removed\n",
      "<Worksheet \"VEHICLE_CLASS_CODE_3\"> removed\n",
      "<Worksheet \"VEHICLE_YEAR\"> removed\n",
      "<Worksheet \"BIRTHDATE_OF_2ND_CHILD_ENHANCED\"> removed\n",
      "<Worksheet \"PERSON_KEY_3\"> removed\n",
      "<Worksheet \"STREET_POST_DIRECTION\"> removed\n",
      "<Worksheet \"TOOLS_ELEC_QUINT\"> removed\n",
      "<Worksheet \"MID_TKT_F_APPRL_ACC_QUINT\"> removed\n",
      "<Worksheet \"NEW_MARRIED_CHANGE_DATE\"> removed\n",
      "<Worksheet \"FIRST_CHILD_CHANGE_DATE\"> removed\n",
      "<Worksheet \"EMPTY_NESTER_CHANGE_DATE\"> removed\n",
      "<Worksheet \"AGILITY_INDIVIDUAL_KEY3\"> removed\n",
      "<Worksheet \"VERIFICATION_DATE_PERSON3\"> removed\n",
      "110322\n"
     ]
    }
   ],
   "source": [
    "import Snapshot_code\n",
    "import pandas as pd\n",
    "\n",
    "new_df2 = pd.read_csv('Data/final_file.csv')\n",
    "\n",
    "mapping_dict = {'Baseline':'US_Population','Segment_1':'Application Completed'}\n",
    "\n",
    "# Set up variables for snapshot\n",
    "file_name = 'Unlock_11182022_Application Completed_1108'\n",
    "seg_var = 'category'\n",
    "epsilon_path = 'Data/Epsilon_Final.xlsx'\n",
    "bin_vars_path = 'Data/Epsilon_attributes_binning_2.csv'\n",
    "# Read in file and set bins\n",
    "\n",
    "\n",
    "profile = Snapshot_code.Snapshot_Profile(profile_data = new_df2, segment_var=seg_var, continuous_path = bin_vars_path,segments = None, segment_names = None, include = None,variable_order = None, other_segment = False,\n",
    "                 file = file_name, exclude = [], PPT = True, continuous = [], excludeother = False,mapping_dict=mapping_dict)"
   ]
  }
 ],
 "metadata": {
  "kernelspec": {
   "display_name": "Python 3.8.15 ('Vyper')",
   "language": "python",
   "name": "python3"
  },
  "language_info": {
   "codemirror_mode": {
    "name": "ipython",
    "version": 3
   },
   "file_extension": ".py",
   "mimetype": "text/x-python",
   "name": "python",
   "nbconvert_exporter": "python",
   "pygments_lexer": "ipython3",
   "version": "3.8.15"
  },
  "vscode": {
   "interpreter": {
    "hash": "19decfa985cd58f930941d087a4572bf10db7430b84e9a8601f50a4c4f81e319"
   }
  }
 },
 "nbformat": 4,
 "nbformat_minor": 2
}
