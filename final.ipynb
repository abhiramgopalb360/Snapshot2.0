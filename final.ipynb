{
 "cells": [
  {
   "cell_type": "code",
   "execution_count": null,
   "metadata": {},
   "outputs": [],
   "source": [
    "import Snapshot_code\n",
    "import pandas as pd\n",
    "\n",
    "new_df2 = pd.read_excel(r\"C:\\Users\\NahianSiddique\\OneDrive - Blend 360\\Documents\\GitHub\\Snapshot2.0\\appended_file_21_22_20221207.xlsx\")\n",
    "\n",
    "mapping_dict = {\"Baseline\": \"dataset_1\", \"Segment_1\": \"dataset_2\", \"Segment_2\": \"dataset_3\"}\n",
    "\n",
    "# Set up variables for snapshot\n",
    "file_name = \"profiles\"\n",
    "seg_var = \"source\"\n",
    "bin_vars_path = \"Data/Epsilon_attributes_binning_2.csv\"\n",
    "# Read in file and set bins\n",
    "\n"
   ]
  },
  {
   "cell_type": "code",
   "execution_count": null,
   "metadata": {},
   "outputs": [],
   "source": [
    "new_df2['source'] = new_df2['source'].map({'1':'dataset_1','2':'dataset_2','3':'dataset_3'})"
   ]
  },
  {
   "cell_type": "code",
   "execution_count": null,
   "metadata": {},
   "outputs": [],
   "source": [
    "new_df2"
   ]
  },
  {
   "cell_type": "code",
   "execution_count": null,
   "metadata": {},
   "outputs": [],
   "source": [
    "profile = Snapshot_code.Snapshot_Profile(\n",
    "    profile_data=new_df2,\n",
    "    segment_var=seg_var,\n",
    "    continuous_path=bin_vars_path,\n",
    "    segments=None,\n",
    "    segment_names=None,\n",
    "    include=None,\n",
    "    variable_order=None,\n",
    "    other_segment=False,\n",
    "    file=file_name,\n",
    "    exclude=[],\n",
    "    PPT=False,\n",
    "    continuous=[],\n",
    "    excludeother=False,\n",
    "    mapping_dict=mapping_dict,\n",
    ")\n"
   ]
  }
 ],
 "metadata": {
  "kernelspec": {
   "display_name": "Python 3.9.9 64-bit",
   "language": "python",
   "name": "python3"
  },
  "language_info": {
   "codemirror_mode": {
    "name": "ipython",
    "version": 3
   },
   "file_extension": ".py",
   "mimetype": "text/x-python",
   "name": "python",
   "nbconvert_exporter": "python",
   "pygments_lexer": "ipython3",
   "version": "3.9.9"
  },
  "vscode": {
   "interpreter": {
    "hash": "4ff96adc296d26945e5e7d51441f7818c5e76af415287e8de6a67e93b2ea9abf"
   }
  }
 },
 "nbformat": 4,
 "nbformat_minor": 2
}
